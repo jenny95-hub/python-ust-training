{
 "cells": [
  {
   "cell_type": "code",
   "execution_count": 4,
   "id": "8cb396b3",
   "metadata": {},
   "outputs": [
    {
     "data": {
      "text/plain": [
       "['False',\n",
       " 'None',\n",
       " 'True',\n",
       " '__peg_parser__',\n",
       " 'and',\n",
       " 'as',\n",
       " 'assert',\n",
       " 'async',\n",
       " 'await',\n",
       " 'break',\n",
       " 'class',\n",
       " 'continue',\n",
       " 'def',\n",
       " 'del',\n",
       " 'elif',\n",
       " 'else',\n",
       " 'except',\n",
       " 'finally',\n",
       " 'for',\n",
       " 'from',\n",
       " 'global',\n",
       " 'if',\n",
       " 'import',\n",
       " 'in',\n",
       " 'is',\n",
       " 'lambda',\n",
       " 'nonlocal',\n",
       " 'not',\n",
       " 'or',\n",
       " 'pass',\n",
       " 'raise',\n",
       " 'return',\n",
       " 'try',\n",
       " 'while',\n",
       " 'with',\n",
       " 'yield']"
      ]
     },
     "execution_count": 4,
     "metadata": {},
     "output_type": "execute_result"
    }
   ],
   "source": [
    "#keyword\n",
    "import keyword\n",
    "keyword.kwlist"
   ]
  },
  {
   "cell_type": "code",
   "execution_count": 6,
   "id": "0eefe62e",
   "metadata": {},
   "outputs": [
    {
     "data": {
      "text/plain": [
       "False"
      ]
     },
     "execution_count": 6,
     "metadata": {},
     "output_type": "execute_result"
    }
   ],
   "source": [
    "#keyword.iskeyword('try')\n",
    "keyword.iskeyword('jenny')"
   ]
  },
  {
   "cell_type": "code",
   "execution_count": 47,
   "id": "e3bf77c1",
   "metadata": {},
   "outputs": [
    {
     "name": "stdout",
     "output_type": "stream",
     "text": [
      "jenny\n"
     ]
    }
   ],
   "source": [
    "#identifier\n",
    "name='jenny'\n",
    "my_identifier=name\n",
    "print(name)"
   ]
  },
  {
   "cell_type": "code",
   "execution_count": 6,
   "id": "745348d2",
   "metadata": {},
   "outputs": [
    {
     "name": "stdout",
     "output_type": "stream",
     "text": [
      "10\n"
     ]
    }
   ],
   "source": [
    "#variables\n",
    "s=10\n",
    "print(s)"
   ]
  },
  {
   "cell_type": "code",
   "execution_count": 8,
   "id": "2b2bf851",
   "metadata": {},
   "outputs": [
    {
     "name": "stdout",
     "output_type": "stream",
     "text": [
      "10\n",
      "20\n"
     ]
    }
   ],
   "source": [
    "#global variables\n",
    "a=10\n",
    "def function():\n",
    "    global a\n",
    "    a += 10\n",
    "    print(a)\n",
    "print (a)\n",
    "function()"
   ]
  },
  {
   "cell_type": "code",
   "execution_count": 7,
   "id": "c1da2bc4",
   "metadata": {},
   "outputs": [
    {
     "data": {
      "text/plain": [
       "6"
      ]
     },
     "execution_count": 7,
     "metadata": {},
     "output_type": "execute_result"
    }
   ],
   "source": [
    "#list\n",
    "my_list = [\"CSK\",\"RSM\",\"MI\",\"CSK\",\"RSM\",\"MI\"]\n",
    "#print(my_list)\n",
    "#len(my_list)\n",
    "print(len(my_list))"
   ]
  },
  {
   "cell_type": "code",
   "execution_count": 13,
   "id": "63d3f234",
   "metadata": {
    "scrolled": true
   },
   "outputs": [
    {
     "name": "stdout",
     "output_type": "stream",
     "text": [
      "['india', 'australia', 'england'] [1, 2, 3, 4, 5] [True, False]\n"
     ]
    }
   ],
   "source": [
    "#multiple datatype in list\n",
    "list1 = [\"india\",\"australia\",\"england\"]\n",
    "list2 = [1,2,3,4,5]\n",
    "list3 = [True,False]\n",
    "print(list1,list2,list3)"
   ]
  },
  {
   "cell_type": "code",
   "execution_count": 28,
   "id": "9f6cad27",
   "metadata": {},
   "outputs": [
    {
     "name": "stdout",
     "output_type": "stream",
     "text": [
      "['india', 'australia', 'england', 1, 2, 3, 4, 5, 'male', 'female']\n"
     ]
    }
   ],
   "source": [
    "list1 = [\"india\",\"australia\",\"england\",1,2,3,4,5,\"male\",\"female\"]\n",
    "print(list1)"
   ]
  },
  {
   "cell_type": "code",
   "execution_count": 32,
   "id": "7f2b0bc9",
   "metadata": {},
   "outputs": [
    {
     "name": "stdout",
     "output_type": "stream",
     "text": [
      "('india', 'australia', 'england', 1, 2, 3, 4, 5, 'male', 'female', 8, 9)\n"
     ]
    }
   ],
   "source": [
    "#tuple\n",
    "tuple1 = (\"india\",\"australia\",\"england\",1,2,3,4,5,\"male\",\"female\",8,9)\n",
    "print(tuple1)"
   ]
  },
  {
   "cell_type": "code",
   "execution_count": 9,
   "id": "499bab55",
   "metadata": {},
   "outputs": [
    {
     "name": "stdout",
     "output_type": "stream",
     "text": [
      "7\n"
     ]
    }
   ],
   "source": [
    "my_tuple1 = (\"india\",\"CSK\",\"RSM\",\"MI\",\"CSK\",\"RSM\",\"MI\")\n",
    "#print(my_tuple1)\n",
    "print(len(my_tuple1))"
   ]
  },
  {
   "cell_type": "code",
   "execution_count": 27,
   "id": "66981736",
   "metadata": {},
   "outputs": [
    {
     "name": "stdout",
     "output_type": "stream",
     "text": [
      "{False, True, 2, 3, 'RSM', 11, 'Male', 'MI', 'Female', 'CSK'}\n"
     ]
    }
   ],
   "source": [
    "#set\n",
    "set1 = {\"CSK\",\"RSM\",\"MI\",\"CSK\",\"RSM\",\"MI\",11,2,3,True,False,\"Male\",\"Female\"}\n",
    "print(set1)"
   ]
  },
  {
   "cell_type": "code",
   "execution_count": 46,
   "id": "85b18c2a",
   "metadata": {
    "scrolled": true
   },
   "outputs": [
    {
     "name": "stdout",
     "output_type": "stream",
     "text": [
      "nPositional order: \n",
      "to Welcome UST\n"
     ]
    }
   ],
   "source": [
    "#string\n",
    "string1 = \"{1} {0} {2}\".format('Welcome','to','UST')\n",
    "print('nPositional order: ')\n",
    "print(string1)"
   ]
  },
  {
   "cell_type": "code",
   "execution_count": 3,
   "id": "4185654d",
   "metadata": {},
   "outputs": [
    {
     "name": "stdout",
     "output_type": "stream",
     "text": [
      "10.0\n"
     ]
    }
   ],
   "source": [
    "#int to float\n",
    "A = 10\n",
    "B= float(A)\n",
    "print(B)"
   ]
  },
  {
   "cell_type": "code",
   "execution_count": 4,
   "id": "56034342",
   "metadata": {},
   "outputs": [
    {
     "name": "stdout",
     "output_type": "stream",
     "text": [
      "10\n"
     ]
    }
   ],
   "source": [
    "#float to int\n",
    "A = 10.0\n",
    "B= int(A)\n",
    "print(B)"
   ]
  },
  {
   "cell_type": "code",
   "execution_count": 3,
   "id": "a86e62d1",
   "metadata": {},
   "outputs": [
    {
     "data": {
      "text/plain": [
       "21"
      ]
     },
     "execution_count": 3,
     "metadata": {},
     "output_type": "execute_result"
    }
   ],
   "source": [
    "a = [1,2,3,4,5,6]\n",
    "#a.remove(2)\n",
    "sum(a)\n",
    "#print(a)"
   ]
  },
  {
   "cell_type": "code",
   "execution_count": 49,
   "id": "ab1944ff",
   "metadata": {
    "scrolled": true
   },
   "outputs": [
    {
     "name": "stdout",
     "output_type": "stream",
     "text": [
      "['a', 'b', 'c']\n"
     ]
    }
   ],
   "source": [
    "list1 = [\"a\",\"b\",\"c\",\"b\",\"c\",\"a\",\"c\",\"a\"]\n",
    "b = list(dict.fromkeys(list1))\n",
    "print(b)"
   ]
  },
  {
   "cell_type": "code",
   "execution_count": 33,
   "id": "008dd18b",
   "metadata": {
    "scrolled": true
   },
   "outputs": [
    {
     "name": "stdout",
     "output_type": "stream",
     "text": [
      "['ww', 'bb']\n"
     ]
    }
   ],
   "source": [
    "#range\n",
    "mylist = [\"aa\",\"xx\",\"ww\",\"bb\",\"vv\"]\n",
    "print(mylist[2:4])"
   ]
  },
  {
   "cell_type": "code",
   "execution_count": 20,
   "id": "74ce656f",
   "metadata": {},
   "outputs": [
    {
     "name": "stdout",
     "output_type": "stream",
     "text": [
      "['aa', 'xx', 'ww', 'bb']\n"
     ]
    }
   ],
   "source": [
    "mylist = [\"aa\",\"xx\",\"ww\",\"bb\",\"vv\"]\n",
    "print(mylist[:4])"
   ]
  },
  {
   "cell_type": "code",
   "execution_count": 1,
   "id": "ef052c21",
   "metadata": {},
   "outputs": [
    {
     "name": "stdout",
     "output_type": "stream",
     "text": [
      "['aa', 'xx', 'ww', 'bb']\n"
     ]
    }
   ],
   "source": [
    "# negative indexing\n",
    "mylist = [\"aa\",\"xx\",\"ww\",\"bb\",\"vv\"]\n",
    "print(mylist[:-1])"
   ]
  },
  {
   "cell_type": "code",
   "execution_count": 41,
   "id": "2707d5d0",
   "metadata": {},
   "outputs": [
    {
     "name": "stdout",
     "output_type": "stream",
     "text": [
      "['ww', 'bb', 'vv']\n"
     ]
    }
   ],
   "source": [
    "mylist = [\"aa\",\"xx\",\"ww\",\"bb\",\"vv\"]\n",
    "print(mylist[2:])"
   ]
  },
  {
   "cell_type": "code",
   "execution_count": 39,
   "id": "3777ee0a",
   "metadata": {},
   "outputs": [
    {
     "name": "stdout",
     "output_type": "stream",
     "text": [
      "['ww', 'bb', 'vv']\n"
     ]
    }
   ],
   "source": [
    "mylist = [\"aa\",\"xx\",\"ww\",\"bb\",\"vv\",\"qq\",\"ee\"]\n",
    "print(mylist[-5:-2])"
   ]
  },
  {
   "cell_type": "code",
   "execution_count": 26,
   "id": "48445c5b",
   "metadata": {},
   "outputs": [
    {
     "name": "stdout",
     "output_type": "stream",
     "text": [
      "xx in mylist\n"
     ]
    }
   ],
   "source": [
    "mylist = [\"aa\",\"xx\",\"ww\",\"bb\",\"vv\"]\n",
    "if \"xx\" in mylist:\n",
    "    print(\"xx in mylist\")"
   ]
  },
  {
   "cell_type": "code",
   "execution_count": 29,
   "id": "677ad5e4",
   "metadata": {},
   "outputs": [],
   "source": [
    "mylist = [\"aa\",\"xx\",\"ww\",\"bb\",\"vv\"]\n",
    "if \"ind\" in mylist:\n",
    "    print(\"ind in mylist\")"
   ]
  },
  {
   "cell_type": "code",
   "execution_count": 30,
   "id": "f0812f22",
   "metadata": {},
   "outputs": [
    {
     "name": "stdout",
     "output_type": "stream",
     "text": [
      "['aa', 'xx', 'ind', 'bb', 'vv']\n"
     ]
    }
   ],
   "source": [
    "mylist = [\"aa\",\"xx\",\"ww\",\"bb\",\"vv\"]\n",
    "mylist[2] = \"ind\"\n",
    "print(mylist)"
   ]
  },
  {
   "cell_type": "code",
   "execution_count": 31,
   "id": "9dfa37f5",
   "metadata": {},
   "outputs": [
    {
     "name": "stdout",
     "output_type": "stream",
     "text": [
      "['aa', 'ind', 'eng', 'ww', 'bb', 'vv']\n"
     ]
    }
   ],
   "source": [
    "mylist = [\"aa\",\"xx\",\"ww\",\"bb\",\"vv\"]\n",
    "mylist[1:2] = [\"ind\",\"eng\"]\n",
    "print(mylist)"
   ]
  },
  {
   "cell_type": "code",
   "execution_count": 169,
   "id": "ff44f670",
   "metadata": {},
   "outputs": [
    {
     "name": "stdout",
     "output_type": "stream",
     "text": [
      "['aa', 'xx', 'ind', 'ww', 'bb', 'vv']\n"
     ]
    }
   ],
   "source": [
    "#insert\n",
    "mylist = [\"aa\",\"xx\",\"ww\",\"bb\",\"vv\"]\n",
    "mylist.insert(2,\"ind\")\n",
    "print(mylist)"
   ]
  },
  {
   "cell_type": "code",
   "execution_count": 164,
   "id": "b6f35218",
   "metadata": {},
   "outputs": [
    {
     "name": "stdout",
     "output_type": "stream",
     "text": [
      "['aa', 'xx', 'ww', 'bb', 'vv', 'ind']\n"
     ]
    }
   ],
   "source": [
    "mylist = [\"aa\",\"xx\",\"ww\",\"bb\",\"vv\"]\n",
    "mylist.append(\"ind\")\n",
    "print(mylist)"
   ]
  },
  {
   "cell_type": "code",
   "execution_count": 161,
   "id": "a448cdec",
   "metadata": {},
   "outputs": [
    {
     "name": "stdout",
     "output_type": "stream",
     "text": [
      "['python', 'java', 'php', 'dotnet', 'c++', 'c']\n"
     ]
    }
   ],
   "source": [
    "mylist1 = [\"python\",\"java\",\"php\"]\n",
    "mylist2 = [\"dotnet\",\"c++\",\"c\"]\n",
    "mylist1.extend(mylist2)\n",
    "print(mylist1)"
   ]
  },
  {
   "cell_type": "code",
   "execution_count": 35,
   "id": "ce08419d",
   "metadata": {},
   "outputs": [
    {
     "name": "stdout",
     "output_type": "stream",
     "text": [
      "['aa', 'ww', 'bb', 'vv']\n"
     ]
    }
   ],
   "source": [
    "mylist = [\"aa\",\"xx\",\"ww\",\"bb\",\"vv\"]\n",
    "mylist.remove(\"xx\")\n",
    "print(mylist)"
   ]
  },
  {
   "cell_type": "code",
   "execution_count": 38,
   "id": "b6f90c78",
   "metadata": {},
   "outputs": [
    {
     "name": "stdout",
     "output_type": "stream",
     "text": [
      "['aa', 'ww', 'bb', 'vv']\n"
     ]
    }
   ],
   "source": [
    "mylist = [\"aa\",\"xx\",\"ww\",\"bb\",\"vv\"]\n",
    "mylist.pop(1)\n",
    "print(mylist)"
   ]
  },
  {
   "cell_type": "code",
   "execution_count": 153,
   "id": "829fd9f2",
   "metadata": {},
   "outputs": [
    {
     "name": "stdout",
     "output_type": "stream",
     "text": [
      "['aa', 'xx', 'ww', 'bb']\n"
     ]
    }
   ],
   "source": [
    "mylist = [\"aa\",\"xx\",\"ww\",\"bb\",\"vv\"]\n",
    "mylist.pop()\n",
    "print(mylist)"
   ]
  },
  {
   "cell_type": "code",
   "execution_count": 65,
   "id": "c4085018",
   "metadata": {},
   "outputs": [
    {
     "name": "stdout",
     "output_type": "stream",
     "text": [
      "['xx', 'ww', 'bb', 'vv']\n"
     ]
    }
   ],
   "source": [
    "mylist = [\"aa\",\"xx\",\"ww\",\"bb\",\"vv\"]\n",
    "del mylist[0]\n",
    "print(mylist)"
   ]
  },
  {
   "cell_type": "code",
   "execution_count": null,
   "id": "a0bbb762",
   "metadata": {},
   "outputs": [],
   "source": [
    "mylist = [\"aa\",\"xx\",\"ww\",\"bb\",\"vv\"]\n",
    "mylist.clear()\n",
    "print(mylist)"
   ]
  },
  {
   "cell_type": "code",
   "execution_count": 44,
   "id": "fc0094a7",
   "metadata": {
    "scrolled": true
   },
   "outputs": [
    {
     "name": "stdout",
     "output_type": "stream",
     "text": [
      "aa\n",
      "xx\n",
      "ww\n",
      "bb\n",
      "vv\n"
     ]
    }
   ],
   "source": [
    "mylist = [\"aa\",\"xx\",\"ww\",\"bb\",\"vv\"]\n",
    "for x in mylist:\n",
    "    print(x)"
   ]
  },
  {
   "cell_type": "code",
   "execution_count": 45,
   "id": "4618c78b",
   "metadata": {},
   "outputs": [
    {
     "name": "stdout",
     "output_type": "stream",
     "text": [
      "aa\n",
      "xx\n",
      "ww\n",
      "bb\n",
      "vv\n"
     ]
    }
   ],
   "source": [
    "mylist = [\"aa\",\"xx\",\"ww\",\"bb\",\"vv\"]\n",
    "for x in range(len(mylist)):\n",
    "    print(mylist[x])"
   ]
  },
  {
   "cell_type": "code",
   "execution_count": 47,
   "id": "d8748a84",
   "metadata": {},
   "outputs": [
    {
     "name": "stdout",
     "output_type": "stream",
     "text": [
      "aa\n",
      "xx\n",
      "ww\n",
      "bb\n",
      "vv\n"
     ]
    }
   ],
   "source": [
    "mylist = [\"aa\",\"xx\",\"ww\",\"bb\",\"vv\"]\n",
    "i = 0\n",
    "while i<len(mylist):\n",
    "    print(mylist[i])\n",
    "    i = i+1"
   ]
  },
  {
   "cell_type": "code",
   "execution_count": 149,
   "id": "59cf0ccd",
   "metadata": {},
   "outputs": [
    {
     "name": "stdout",
     "output_type": "stream",
     "text": [
      "('aa', 'xx', 'ww', 'bb', 'vv')\n"
     ]
    }
   ],
   "source": [
    "mylist = [\"aa\",\"xx\",\"ww\",\"bb\",\"vv\"]\n",
    "mylist.sort()\n",
    "\n",
    "#mylist = ((\"aa\",\"xx\",\"ww\",\"bb\",\"vv\")) #list constructor-list()\n",
    "print(mylist)"
   ]
  },
  {
   "cell_type": "code",
   "execution_count": 49,
   "id": "4a7328c7",
   "metadata": {},
   "outputs": [
    {
     "name": "stdout",
     "output_type": "stream",
     "text": [
      "[12, 13, 55, 99, 100]\n"
     ]
    }
   ],
   "source": [
    "numlist = [100,55,99,12,13]\n",
    "numlist.sort()\n",
    "print(numlist)"
   ]
  },
  {
   "cell_type": "code",
   "execution_count": 52,
   "id": "84a73f13",
   "metadata": {},
   "outputs": [
    {
     "name": "stdout",
     "output_type": "stream",
     "text": [
      "[100, 99, 55, 13, 12]\n"
     ]
    }
   ],
   "source": [
    "numlist = [100,55,99,12,13]\n",
    "numlist.sort(reverse = True)\n",
    "print(numlist)"
   ]
  },
  {
   "cell_type": "code",
   "execution_count": 53,
   "id": "ddad0e5c",
   "metadata": {},
   "outputs": [
    {
     "name": "stdout",
     "output_type": "stream",
     "text": [
      "['Delhi', 'Hyderabad', 'Trivadrum', 'bangalore', 'chennai']\n"
     ]
    }
   ],
   "source": [
    "#case sensitive sorting\n",
    "alist = [\"chennai\",\"bangalore\",\"Hyderabad\",\"Trivadrum\",\"Delhi\"]\n",
    "alist.sort()\n",
    "print(alist)"
   ]
  },
  {
   "cell_type": "code",
   "execution_count": 54,
   "id": "f22dac66",
   "metadata": {},
   "outputs": [
    {
     "name": "stdout",
     "output_type": "stream",
     "text": [
      "['bangalore', 'chennai', 'Delhi', 'Hyderabad', 'Trivadrum']\n"
     ]
    }
   ],
   "source": [
    "alist = [\"chennai\",\"bangalore\",\"Hyderabad\",\"Trivadrum\",\"Delhi\"]\n",
    "alist.sort(key = str.lower)\n",
    "print(alist)"
   ]
  },
  {
   "cell_type": "code",
   "execution_count": 56,
   "id": "472db896",
   "metadata": {},
   "outputs": [
    {
     "name": "stdout",
     "output_type": "stream",
     "text": [
      "['Delhi', 'Trivadrum', 'Hyderabad', 'bangalore', 'chennai']\n"
     ]
    }
   ],
   "source": [
    "alist = [\"chennai\",\"bangalore\",\"Hyderabad\",\"Trivadrum\",\"Delhi\"]\n",
    "alist.reverse()\n",
    "print(alist)"
   ]
  },
  {
   "cell_type": "code",
   "execution_count": 145,
   "id": "b9cf66f5",
   "metadata": {},
   "outputs": [
    {
     "name": "stdout",
     "output_type": "stream",
     "text": [
      "<class 'list'>\n"
     ]
    }
   ],
   "source": [
    "alist = [\"chennai\",\"bangalore\",\"Hyderabad\",\"Trivadrum\",\"Delhi\"]\n",
    "#blist = list(alist)\n",
    "#print(blist)\n",
    "#print(type(alist))\n",
    "\n",
    "alist = ((\"chennai\",\"bangalore\",\"Hyderabad\",\"Trivadrum\",\"Delhi\"))\n",
    "\n"
   ]
  },
  {
   "cell_type": "code",
   "execution_count": 70,
   "id": "06e3dfe8",
   "metadata": {},
   "outputs": [
    {
     "name": "stdout",
     "output_type": "stream",
     "text": [
      "8\n"
     ]
    }
   ],
   "source": [
    "mytuple = (\"jenny\",\"selin\",\"anju\",\"anusree\",\"jisha\",1,2,True)\n",
    "print(len(mytuple))"
   ]
  },
  {
   "cell_type": "code",
   "execution_count": 24,
   "id": "cd15ea0b",
   "metadata": {},
   "outputs": [
    {
     "name": "stdout",
     "output_type": "stream",
     "text": [
      "['jenny', 'selin', 'anju', 'anusree', 'jisha']\n"
     ]
    }
   ],
   "source": [
    "#converting tuple to list\n",
    "x = (\"jenny\",\"selin\",\"anju\",\"anusree\",\"jisha\")\n",
    "y = list(x)\n",
    "print(y)"
   ]
  },
  {
   "cell_type": "code",
   "execution_count": 26,
   "id": "f9227b7d",
   "metadata": {},
   "outputs": [
    {
     "name": "stdout",
     "output_type": "stream",
     "text": [
      "('jenny', 'selin', 'anju', 'anusree', 'jisha')\n"
     ]
    }
   ],
   "source": [
    "#converting list to tuple\n",
    "#x = [\"jenny\",\"selin\",\"anju\",\"anusree\",\"jisha\"]\n",
    "y= tuple(x)\n",
    "print(y)\n",
    "\n"
   ]
  },
  {
   "cell_type": "code",
   "execution_count": 171,
   "id": "bff6ee3b",
   "metadata": {},
   "outputs": [
    {
     "name": "stdout",
     "output_type": "stream",
     "text": [
      "{'pathananthitta', 1, 2, 3, 4, 'Thrissur', 'Mala', 'jenny', 'Tvm'}\n"
     ]
    }
   ],
   "source": [
    "myset = {\"jenny\",\"selin\",\"anju\",\"anusree\",\"jisha\",\"selin\",1,2,3}\n",
    "set2 = {\"Mala\",\"pathananthitta\",\"Thrissur\",\"Tvm\",1,2,4,3,\"jenny\"}\n",
    "#set2.clear()\n",
    "#x = set2.copy()\n",
    "#print(x)\n",
    "#print(set2)\n",
    "#myset.remove(\"selin\")\n",
    "#myset.add(\"jj\")\n",
    "\n",
    "#for x in myset:\n",
    "#    print(x)\n",
    "\n",
    "#if \"jenny\" in myset:\n",
    "#    print(\"jenny is present\")\n",
    "\n",
    "#myset.update(set2)        #joining sets by excluding dupliactes value\n",
    "\n",
    "#myset.intersection_update(set2)    #returns items commom to both sets\n",
    "\n",
    "#myset.symmetric_difference_update(set2)   #returns items not present in both sets\n",
    "\n",
    "#myset.difference_update(set2)   #return items ny excluding the common items\n",
    "#set3 = myset.union(set2)      #joining sets by excluding dupliactes value\n",
    "#set3= myset.intersection(set2)    # returns a new set containg common items on the joined 2 sets\n",
    "#set3 = myset.symmetric_difference(set2)  #returns a new set containing items not present in both sets\n",
    "#set3 = myset.difference(set2)  # return set excluding the common items\n",
    "#print(set3)\n",
    "\n",
    "\n",
    "\n",
    "\n",
    "\n",
    "\n"
   ]
  },
  {
   "cell_type": "code",
   "execution_count": 110,
   "id": "8b5cd4bc",
   "metadata": {},
   "outputs": [],
   "source": [
    "#dictionary\n",
    "mydict = {\n",
    "    \"brand\":\"maruti\",\n",
    "    \"model\":\"swift\",\n",
    "    \"year\":1993,\n",
    "     \"year\":1}\n",
    "#print(mydict[\"brand\"])\n",
    "#print(mydict.keys())\n",
    "#print(mydict.values())\n",
    "#mydict[\"model\"] = \"Celerio\"\n",
    "#mydict.update({\"model\":\"Celerio\"})\n",
    "#mydict.clear()\n",
    "#print(type(mydict))\n",
    "#mydict.pop(\"brand\")\n",
    "#mydict.popitem() #remove last insert item\n",
    "#del mydict[\"brand\"]\n",
    "#mydict[\"cost\"]=1223\n",
    "#print(mydict.get(\"year\"))\n",
    "\n",
    "#for x in mydict:\n",
    "#    print(x)\n",
    "\n",
    "#for x in mydict.values():\n",
    "#   print(x)\n",
    "\n",
    "#for x,y in mydict.items():\n",
    "#    print(x ,y)\n",
    "\n",
    "#mydict1 = dict(mydict)\n",
    "#print(mydict1)\n",
    "\n",
    "#mydict1 = mydict.copy()\n",
    "#Wprint(mydict1)\n",
    "\n"
   ]
  },
  {
   "cell_type": "code",
   "execution_count": 94,
   "id": "6b0f7f90",
   "metadata": {
    "scrolled": true
   },
   "outputs": [
    {
     "data": {
      "text/plain": [
       "'a = \"\"\"smsmddmmsmssssssss\\n        ssdddddddddddddddd\\n        ddffffffffvvggggg\"\"\"\\nprint(a)'"
      ]
     },
     "execution_count": 94,
     "metadata": {},
     "output_type": "execute_result"
    }
   ],
   "source": [
    "a = \"\"\"smsmddmmsmssssssss\n",
    "        ssdddddddddddddddd\n",
    "        ddffffffffvvggggg\"\"\"\n",
    "print(a)"
   ]
  },
  {
   "cell_type": "code",
   "execution_count": 115,
   "id": "000e0c92",
   "metadata": {},
   "outputs": [
    {
     "name": "stdout",
     "output_type": "stream",
     "text": [
      "Jello,world\n"
     ]
    }
   ],
   "source": [
    "a = \"Hello,world\"\n",
    "#print(a[2:5])\n",
    "#print(a[:5])\n",
    "#print(a[5:])\n",
    "#print(a.upper())\n",
    "#print(a.lower())\n",
    "print(a.replace(\"H\",\"J\"))"
   ]
  },
  {
   "cell_type": "code",
   "execution_count": 118,
   "id": "8a93ee82",
   "metadata": {},
   "outputs": [
    {
     "name": "stdout",
     "output_type": "stream",
     "text": [
      "Hello World\n"
     ]
    }
   ],
   "source": [
    "#concatination\n",
    "a = \"Hello\"\n",
    "b = \"World\"\n",
    "c = a+' '+b\n",
    "print(c)\n"
   ]
  },
  {
   "cell_type": "code",
   "execution_count": 2,
   "id": "8bb85f40",
   "metadata": {},
   "outputs": [
    {
     "name": "stdout",
     "output_type": "stream",
     "text": [
      "b is greater than a\n"
     ]
    }
   ],
   "source": [
    "#Conditions\n",
    "\n",
    "a=234\n",
    "b=12234\n",
    "if b>a:\n",
    "    print(\"b is greater than a\")\n"
   ]
  },
  {
   "cell_type": "code",
   "execution_count": 17,
   "id": "99389a05",
   "metadata": {},
   "outputs": [
    {
     "name": "stdout",
     "output_type": "stream",
     "text": [
      "a is greater than b\n"
     ]
    }
   ],
   "source": [
    "#Conditions\n",
    "\n",
    "a=20\n",
    "b=12\n",
    "if b>a:\n",
    "    print(\"b is greater than a\")\n",
    "elif a == b:\n",
    "    print(\"a and b are equal\")\n",
    "else:\n",
    "   print(\"a is greater than b\")"
   ]
  },
  {
   "cell_type": "code",
   "execution_count": 28,
   "id": "4bb62c3a",
   "metadata": {},
   "outputs": [
    {
     "name": "stdout",
     "output_type": "stream",
     "text": [
      "above 10\n",
      "also above 20\n"
     ]
    }
   ],
   "source": [
    "#Nested condition\n",
    "x = 41\n",
    "if x > 10:\n",
    "    print(\"above 10\")\n",
    "    if x >20:\n",
    "        print(\"also above 20\")\n",
    "    else:\n",
    "        print(\"but not above 20\")"
   ]
  },
  {
   "cell_type": "code",
   "execution_count": 29,
   "id": "1825ca73",
   "metadata": {},
   "outputs": [
    {
     "name": "stdout",
     "output_type": "stream",
     "text": [
      "red apple\n",
      "red orange\n",
      "red grapes\n",
      "yellow apple\n",
      "yellow orange\n",
      "yellow grapes\n",
      "green apple\n",
      "green orange\n",
      "green grapes\n"
     ]
    }
   ],
   "source": [
    "#Nested loop\n",
    "color = [\"red\",\"yellow\",\"green\"]\n",
    "friuts = [\"apple\",\"orange\",\"grapes\"]\n",
    "for x in color:\n",
    "    for y in friuts:\n",
    "        print(x,y)"
   ]
  },
  {
   "cell_type": "code",
   "execution_count": 32,
   "id": "ceb1451c",
   "metadata": {},
   "outputs": [
    {
     "name": "stdout",
     "output_type": "stream",
     "text": [
      "Hello my world\n"
     ]
    }
   ],
   "source": [
    "#Functions\n",
    "def myfunction():\n",
    "    print(\"Hello my world\")\n",
    "myfunction() "
   ]
  },
  {
   "cell_type": "code",
   "execution_count": null,
   "id": "ce07f6f8",
   "metadata": {},
   "outputs": [],
   "source": []
  }
 ],
 "metadata": {
  "kernelspec": {
   "display_name": "Python 3 (ipykernel)",
   "language": "python",
   "name": "python3"
  },
  "language_info": {
   "codemirror_mode": {
    "name": "ipython",
    "version": 3
   },
   "file_extension": ".py",
   "mimetype": "text/x-python",
   "name": "python",
   "nbconvert_exporter": "python",
   "pygments_lexer": "ipython3",
   "version": "3.9.7"
  }
 },
 "nbformat": 4,
 "nbformat_minor": 5
}
