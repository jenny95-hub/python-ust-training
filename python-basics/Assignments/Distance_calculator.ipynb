{
 "cells": [
  {
   "cell_type": "code",
   "execution_count": 1,
   "id": "dd374a0b",
   "metadata": {},
   "outputs": [
    {
     "name": "stdout",
     "output_type": "stream",
     "text": [
      "Result 278.54558935106695\n"
     ]
    }
   ],
   "source": [
    "#Distance between 2 places using latitude and longitude\n",
    "\n",
    "from math import sin, cos, sqrt, atan2,radians\n",
    "\n",
    "R = 6373.0\n",
    "\n",
    "lat1 = radians(52.2296756)\n",
    "lon1 = radians(21.0122287)\n",
    "lat2 = radians(52.406374)\n",
    "lon2 = radians(16.9251681)\n",
    "\n",
    "\n",
    "dlon = lon2 - lon1\n",
    "dlat = lat2 - lat1\n",
    "a = (sin(dlat/2))**2 + cos(lat1) * cos(lat2) * (sin(dlon/2))**2\n",
    "c = 2 * atan2(sqrt(a), sqrt(1-a))\n",
    "distance = R * c\n",
    "\n",
    "print(\"Result\", distance)"
   ]
  }
 ],
 "metadata": {
  "kernelspec": {
   "display_name": "Python 3 (ipykernel)",
   "language": "python",
   "name": "python3"
  },
  "language_info": {
   "codemirror_mode": {
    "name": "ipython",
    "version": 3
   },
   "file_extension": ".py",
   "mimetype": "text/x-python",
   "name": "python",
   "nbconvert_exporter": "python",
   "pygments_lexer": "ipython3",
   "version": "3.9.7"
  }
 },
 "nbformat": 4,
 "nbformat_minor": 5
}
