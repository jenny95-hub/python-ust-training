{
 "cells": [
  {
   "cell_type": "code",
   "execution_count": null,
   "id": "996fa02d",
   "metadata": {},
   "outputs": [],
   "source": [
    "def addComplex( x,y):\n",
    "    return x + y\n",
    " \n",
    "x = complex(input('Enter first complex number: '))\n",
    "y = complex(input('Enter second complex number: '))\n",
    "print( \"Sum is : \", addComplex(x, y))\n",
    "\n",
    "def subComplex( x,y):\n",
    "    return x - y\n",
    " \n",
    "x = complex(input('Enter first complex number: '))\n",
    "y = complex(input('Enter second complex number: '))\n",
    "print( \"Difference is : \", subComplex(x, y))\n",
    "\n",
    "def mulComplex( x,y):\n",
    "    return x * y\n",
    " \n",
    "x = complex(input('Enter first complex number: '))\n",
    "y = complex(input('Enter second complex number: '))\n",
    "print( \"Product is : \", mulComplex(x, y))\n",
    "\n",
    "def divComplex( x,y):\n",
    "    return x / y\n",
    "\n",
    "x = complex(input('Enter first complex number: '))\n",
    "y = complex(input('Enter second complex number: '))\n",
    "print( \"Result is : \", divComplex(x, y))\n",
    "\n",
    "def negComplex(z):\n",
    "    return -z\n",
    "\n",
    "z = complex(input('Enter complex number: '))\n",
    "print( \"Inversed result is : \", negComplex(z))\n",
    "\n",
    "def inverseComplex(z):\n",
    "    return 1/z\n",
    "\n",
    "z = complex(input('Enter complex number: '))\n",
    "print( \"Inversed result is : \", inverseComplex(z))"
   ]
  },
  {
   "cell_type": "code",
   "execution_count": null,
   "id": "9557b75f",
   "metadata": {},
   "outputs": [],
   "source": []
  }
 ],
 "metadata": {
  "kernelspec": {
   "display_name": "Python 3 (ipykernel)",
   "language": "python",
   "name": "python3"
  },
  "language_info": {
   "codemirror_mode": {
    "name": "ipython",
    "version": 3
   },
   "file_extension": ".py",
   "mimetype": "text/x-python",
   "name": "python",
   "nbconvert_exporter": "python",
   "pygments_lexer": "ipython3",
   "version": "3.9.7"
  }
 },
 "nbformat": 4,
 "nbformat_minor": 5
}
