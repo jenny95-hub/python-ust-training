{
 "cells": [
  {
   "cell_type": "code",
   "execution_count": null,
   "id": "deb633af",
   "metadata": {},
   "outputs": [],
   "source": [
    "import socket"
   ]
  },
  {
   "cell_type": "code",
   "execution_count": null,
   "id": "01ee71fa",
   "metadata": {},
   "outputs": [],
   "source": [
    "# server side\n",
    "import socket\n",
    "s=socket.socket(socket.AF_INET,socket.SOCK_STREAM) #af_inet for ipv4  and sock_stream is for TCP socket\n",
    "s.bind((socket.gethostname(),1234)) #binding socket to port on the server \n",
    "s.listen(3) #listen for incoming connection in queue of 3\n",
    "while True:\n",
    "    clientsocket,addr=s.accept()\n",
    "    print(f\"connection from {addr}\")\n"
   ]
  },
  {
   "cell_type": "code",
   "execution_count": null,
   "id": "571d08dd",
   "metadata": {},
   "outputs": [],
   "source": [
    "# Client side\n",
    "import socket\n",
    "s=socket.socket(socket.AF_INET,socket.SOCK_STREAM)\n",
    "s.connect((socket.gethostname(),1234))"
   ]
  },
  {
   "cell_type": "code",
   "execution_count": null,
   "id": "fb22274b",
   "metadata": {},
   "outputs": [],
   "source": [
    "import socket\n",
    "s=socket.socket()\n",
    "print(\"socket created\",s)\n",
    "s.bind(('localhost',1234))\n",
    "# s.bind(socket.gethostname(),9999)\n",
    "s.listen(3)\n",
    "print(\"waiting for connection\")\n",
    "while True:\n",
    "    c,addr=s.accept()\n",
    "    name=c.recv(1024).decode()\n",
    "    print(\"Connected with client\",addr,name)\n",
    "    c.send(bytes('welcome to python socket','UTF-8'))\n",
    "    print(\"Done\")\n",
    "    c.close()\n",
    "    "
   ]
  },
  {
   "cell_type": "code",
   "execution_count": null,
   "id": "515357a9",
   "metadata": {},
   "outputs": [],
   "source": [
    "# server\n",
    "import socket\n",
    "s = socket.socket()\n",
    "print(\"socket created\")\n",
    "s.bind(('localhost',1234))\n",
    "s.listen(3) \n",
    "print(\"waiting for connections\")\n",
    "while True:\n",
    "    c, addr = s.accept() #it returns for address and client socket\n",
    "    name=c.recv(1024).decode()\n",
    "    print(\"connected with client\", addr,name)\n",
    "    c.send(bytes(\"welcome to python socket\",'utf-8')) \n",
    "    c.close()"
   ]
  },
  {
   "cell_type": "code",
   "execution_count": 1,
   "id": "3f7f58a2",
   "metadata": {},
   "outputs": [
    {
     "name": "stdout",
     "output_type": "stream",
     "text": [
      "enter your name Ashish\n",
      "welcome to python socket\n"
     ]
    }
   ],
   "source": [
    "#client\n",
    "import socket\n",
    "c=socket.socket() \n",
    "c.connect(('localhost',1234))\n",
    "name=input(\"enter your name \")\n",
    "c.send(bytes(name,'utf-8'))\n",
    "print(c.recv(1024).decode())"
   ]
  },
  {
   "cell_type": "code",
   "execution_count": null,
   "id": "33fb271c",
   "metadata": {},
   "outputs": [],
   "source": [
    "#socket can send  and receive data "
   ]
  },
  {
   "cell_type": "code",
   "execution_count": null,
   "id": "dc754122",
   "metadata": {},
   "outputs": [],
   "source": [
    "# server.py\n",
    "import socket\n",
    "s=socket.socket(socket.AF_INET,socket.SOCK_STREAM) #af_inet for ipv4  and sock_stream is for TCP socket\n",
    "s.bind((socket.gethostname(),1234)) #binding socket to port on the server \n",
    "s.listen(3) #listen for incoming connection in queue of 3\n",
    "while True:\n",
    "    clientsocket,addr=s.accept()\n",
    "    print(f\"connection from {addr}\")\n",
    "    clientsocket.send(bytes(\"Welcome to UST\",'utf-8'))"
   ]
  },
  {
   "cell_type": "code",
   "execution_count": null,
   "id": "736cbe63",
   "metadata": {},
   "outputs": [],
   "source": [
    "# client.py\n",
    "import socket\n",
    "s=socket.socket(socket.AF_INET,socket.SOCK_STREAM)\n",
    "s.connect((socket.gethostname(),1234))\n",
    "msg=s.recv(1024)# receive data in buffer size of 1024 bytes\n",
    "print(msg.decode('utf-8'))"
   ]
  },
  {
   "cell_type": "code",
   "execution_count": null,
   "id": "e22491c1",
   "metadata": {},
   "outputs": [],
   "source": [
    "# import socket            \n",
    "# s = socket.socket()         \n",
    "# host = socket.gethostname() \n",
    "# port = 12345                \n",
    "# s.bind((host, port))        \n",
    "\n",
    "# s.listen(5)                 \n",
    "# while True:\n",
    "#    c, addr = s.accept() \n",
    "#    print 'Got connection from', addr\n",
    "#    c.send('Thank you for connecting')\n",
    "#    c.close()\n",
    "\n"
   ]
  },
  {
   "cell_type": "code",
   "execution_count": null,
   "id": "5afb35d6",
   "metadata": {},
   "outputs": [
    {
     "name": "stdout",
     "output_type": "stream",
     "text": [
      " * Serving Flask app \"__main__\" (lazy loading)\n",
      " * Environment: production\n",
      "\u001b[31m   WARNING: This is a development server. Do not use it in a production deployment.\u001b[0m\n",
      "\u001b[2m   Use a production WSGI server instead.\u001b[0m\n",
      " * Debug mode: off\n"
     ]
    },
    {
     "name": "stderr",
     "output_type": "stream",
     "text": [
      " * Running on http://127.0.0.1:5000/ (Press CTRL+C to quit)\n"
     ]
    }
   ],
   "source": [
    "from flask import Flask\n",
    "app = Flask(__name__)\n",
    "\n",
    "@app.route('/')\n",
    "def hello_world():\n",
    "    return 'welcome to UST'\n",
    "\n",
    "if __name__ == '__main__':\n",
    "    app.run()\n",
    "    "
   ]
  },
  {
   "cell_type": "code",
   "execution_count": null,
   "id": "7cd3e159",
   "metadata": {},
   "outputs": [
    {
     "name": "stdout",
     "output_type": "stream",
     "text": [
      "socket created\n",
      "waiting for connection\n",
      "connected with ('127.0.0.1', 14752) GET / HTTP/1.1\n",
      "Host: localhost:1234\n",
      "Connection: keep-alive\n",
      "sec-ch-ua: \" Not A;Brand\";v=\"99\", \"Chromium\";v=\"99\", \"Google Chrome\";v=\"99\"\n",
      "sec-ch-ua-mobile: ?0\n",
      "sec-ch-ua-platform: \"Windows\"\n",
      "Upgrade-Insecure-Requests: 1\n",
      "User-Agent: Mozilla/5.0 (Windows NT 10.0; Win64; x64) AppleWebKit/537.36 (KHTML, like Gecko) Chrome/99.0.4844.51 Safari/537.36\n",
      "Accept: text/html,application/xhtml+xml,application/xml;q=0.9,image/avif,image/webp,image/apng,*/*;q=0.8,application/signed-exchange;v=b3;q=0.9\n",
      "Sec-Fetch-Site: none\n",
      "Sec-Fetch-Mode: navigate\n",
      "Sec-Fetch-User: ?1\n",
      "Sec-Fetch-Dest: document\n",
      "Accept-Encoding: gzip, deflate, br\n",
      "Accept-Language: en-US,en;q=0.9\n",
      "Cookie: _xsrf=2|a9c922ac|c1f491983e735de4297e5b1ef5e4df6a|1646817636; username-localhost-8888=\"2|1:0|10:1646972979|23:username-localhost-8888|44:NGY3NjVjMzllYjViNGRlMjgwZTJiZGNhYjY3ZWNlODk=|174e9af9d7e9a5cdb41800cdcc675b7a645fe2dc04fe31299d0166aed9d7ae9e\"\n",
      "\n",
      "\n",
      "connected with ('127.0.0.1', 14753) \n",
      "connected with ('127.0.0.1', 14754) \n",
      "connected with ('127.0.0.1', 14759) GET / HTTP/1.1\n",
      "Host: localhost:1234\n",
      "Connection: keep-alive\n",
      "Cache-Control: max-age=0\n",
      "sec-ch-ua: \" Not A;Brand\";v=\"99\", \"Chromium\";v=\"99\", \"Google Chrome\";v=\"99\"\n",
      "sec-ch-ua-mobile: ?0\n",
      "sec-ch-ua-platform: \"Windows\"\n",
      "Upgrade-Insecure-Requests: 1\n",
      "User-Agent: Mozilla/5.0 (Windows NT 10.0; Win64; x64) AppleWebKit/537.36 (KHTML, like Gecko) Chrome/99.0.4844.51 Safari/537.36\n",
      "Accept: text/html,application/xhtml+xml,application/xml;q=0.9,image/avif,image/webp,image/apng,*/*;q=0.8,application/signed-exchange;v=b3;q=0.9\n",
      "Sec-Fetch-Site: none\n",
      "Sec-Fetch-Mode: navigate\n",
      "Sec-Fetch-User: ?1\n",
      "Sec-Fetch-Dest: document\n",
      "Accept-Encoding: gzip, deflate, br\n",
      "Accept-Language: en-US,en;q=0.9\n",
      "Cookie: _xsrf=2|a9c922ac|c1f491983e735de4297e5b1ef5e4df6a|1646817636; username-localhost-8888=\"2|1:0|10:1646972979|23:username-localhost-8888|44:NGY3NjVjMzllYjViNGRlMjgwZTJiZGNhYjY3ZWNlODk=|174e9af9d7e9a5cdb41800cdcc675b7a645fe2dc04fe31299d0166aed9d7ae9e\"\n",
      "\n",
      "\n",
      "connected with ('127.0.0.1', 14760) GET / HTTP/1.1\n",
      "Host: localhost:1234\n",
      "Connection: keep-alive\n",
      "Cache-Control: max-age=0\n",
      "sec-ch-ua: \" Not A;Brand\";v=\"99\", \"Chromium\";v=\"99\", \"Google Chrome\";v=\"99\"\n",
      "sec-ch-ua-mobile: ?0\n",
      "sec-ch-ua-platform: \"Windows\"\n",
      "Upgrade-Insecure-Requests: 1\n",
      "User-Agent: Mozilla/5.0 (Windows NT 10.0; Win64; x64) AppleWebKit/537.36 (KHTML, like Gecko) Chrome/99.0.4844.51 Safari/537.36\n",
      "Accept: text/html,application/xhtml+xml,application/xml;q=0.9,image/avif,image/webp,image/apng,*/*;q=0.8,application/signed-exchange;v=b3;q=0.9\n",
      "Sec-Fetch-Site: none\n",
      "Sec-Fetch-Mode: navigate\n",
      "Sec-Fetch-User: ?1\n",
      "Sec-Fetch-Dest: document\n",
      "Accept-Encoding: gzip, deflate, br\n",
      "Accept-Language: en-US,en;q=0.9\n",
      "Cookie: _xsrf=2|a9c922ac|c1f491983e735de4297e5b1ef5e4df6a|1646817636; username-localhost-8888=\"2|1:0|10:1646972979|23:username-localhost-8888|44:NGY3NjVjMzllYjViNGRlMjgwZTJiZGNhYjY3ZWNlODk=|174e9af9d7e9a5cdb41800cdcc675b7a645fe2dc04fe31299d0166aed9d7ae9e\"\n",
      "\n",
      "\n",
      "connected with ('127.0.0.1', 14761) \n",
      "connected with ('127.0.0.1', 14765) Jenny\n",
      "connected with ('127.0.0.1', 14784) GET / HTTP/1.1\n",
      "Host: localhost:1234\n",
      "Connection: keep-alive\n",
      "Cache-Control: max-age=0\n",
      "sec-ch-ua: \" Not A;Brand\";v=\"99\", \"Chromium\";v=\"99\", \"Google Chrome\";v=\"99\"\n",
      "sec-ch-ua-mobile: ?0\n",
      "sec-ch-ua-platform: \"Windows\"\n",
      "Upgrade-Insecure-Requests: 1\n",
      "User-Agent: Mozilla/5.0 (Windows NT 10.0; Win64; x64) AppleWebKit/537.36 (KHTML, like Gecko) Chrome/99.0.4844.51 Safari/537.36\n",
      "Accept: text/html,application/xhtml+xml,application/xml;q=0.9,image/avif,image/webp,image/apng,*/*;q=0.8,application/signed-exchange;v=b3;q=0.9\n",
      "Sec-Fetch-Site: none\n",
      "Sec-Fetch-Mode: navigate\n",
      "Sec-Fetch-User: ?1\n",
      "Sec-Fetch-Dest: document\n",
      "Accept-Encoding: gzip, deflate, br\n",
      "Accept-Language: en-US,en;q=0.9\n",
      "Cookie: _xsrf=2|a9c922ac|c1f491983e735de4297e5b1ef5e4df6a|1646817636; username-localhost-8888=\"2|1:0|10:1646972979|23:username-localhost-8888|44:NGY3NjVjMzllYjViNGRlMjgwZTJiZGNhYjY3ZWNlODk=|174e9af9d7e9a5cdb41800cdcc675b7a645fe2dc04fe31299d0166aed9d7ae9e\"\n",
      "\n",
      "\n",
      "connected with ('127.0.0.1', 14785) \n",
      "connected with ('127.0.0.1', 14787) \n"
     ]
    }
   ],
   "source": [
    "import socket\n",
    "s=socket.socket()\n",
    "print('socket created')\n",
    "s.bind(('localhost',1234))\n",
    "s.listen(3)\n",
    "print('waiting for connection')\n",
    "while True:\n",
    "    c,addr=s.accept()\n",
    "    name=c.recv(1024).decode()\n",
    "    print('connected with',addr,name)\n",
    "    \n",
    "    c.send(bytes('welcome to UST','utf-8'))\n",
    "    c.close()"
   ]
  },
  {
   "cell_type": "code",
   "execution_count": null,
   "id": "b186b939",
   "metadata": {},
   "outputs": [],
   "source": [
    "import socket\n",
    "\n",
    "c=socket.socket()\n",
    "c.connect(('localhost',9999))\n",
    "\n",
    "name=input('Enter your name : ')\n",
    "c.send(bytes(name,'utf-8'))\n",
    "\n",
    "print(c.recv(1024).decode())"
   ]
  }
 ],
 "metadata": {
  "kernelspec": {
   "display_name": "Python 3 (ipykernel)",
   "language": "python",
   "name": "python3"
  },
  "language_info": {
   "codemirror_mode": {
    "name": "ipython",
    "version": 3
   },
   "file_extension": ".py",
   "mimetype": "text/x-python",
   "name": "python",
   "nbconvert_exporter": "python",
   "pygments_lexer": "ipython3",
   "version": "3.9.7"
  }
 },
 "nbformat": 4,
 "nbformat_minor": 5
}
