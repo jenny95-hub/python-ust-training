{
 "cells": [
  {
   "cell_type": "code",
   "execution_count": 1,
   "id": "3e510e06",
   "metadata": {},
   "outputs": [
    {
     "name": "stdout",
     "output_type": "stream",
     "text": [
      "Requirement already satisfied: pylint in c:\\users\\dell\\anaconda3\\anaconda3\\lib\\site-packages (2.9.6)\n",
      "Requirement already satisfied: mccabe<0.7,>=0.6 in c:\\users\\dell\\anaconda3\\anaconda3\\lib\\site-packages (from pylint) (0.6.1)\n",
      "Requirement already satisfied: isort<6,>=4.2.5 in c:\\users\\dell\\anaconda3\\anaconda3\\lib\\site-packages (from pylint) (5.9.3)\n",
      "Requirement already satisfied: toml>=0.7.1 in c:\\users\\dell\\anaconda3\\anaconda3\\lib\\site-packages (from pylint) (0.10.2)\n",
      "Requirement already satisfied: colorama in c:\\users\\dell\\anaconda3\\anaconda3\\lib\\site-packages (from pylint) (0.4.4)\n",
      "Requirement already satisfied: astroid<2.7,>=2.6.5 in c:\\users\\dell\\anaconda3\\anaconda3\\lib\\site-packages (from pylint) (2.6.6)\n",
      "Requirement already satisfied: lazy-object-proxy>=1.4.0 in c:\\users\\dell\\anaconda3\\anaconda3\\lib\\site-packages (from astroid<2.7,>=2.6.5->pylint) (1.6.0)\n",
      "Requirement already satisfied: wrapt<1.13,>=1.11 in c:\\users\\dell\\anaconda3\\anaconda3\\lib\\site-packages (from astroid<2.7,>=2.6.5->pylint) (1.12.1)\n",
      "Requirement already satisfied: setuptools>=20.0 in c:\\users\\dell\\anaconda3\\anaconda3\\lib\\site-packages (from astroid<2.7,>=2.6.5->pylint) (58.0.4)\n"
     ]
    }
   ],
   "source": [
    "#installing pylint\n",
    "! pip install pylint"
   ]
  },
  {
   "cell_type": "code",
   "execution_count": 58,
   "id": "26ea8a23",
   "metadata": {},
   "outputs": [
    {
     "name": "stdout",
     "output_type": "stream",
     "text": [
      "Overwriting display.py\n"
     ]
    }
   ],
   "source": [
    "%%writefile display.py  \n",
    "a = 1\n",
    "b = 2\n",
    "print(a)\n",
    "print(B)"
   ]
  },
  {
   "cell_type": "code",
   "execution_count": 6,
   "id": "d15b1aa3",
   "metadata": {},
   "outputs": [
    {
     "name": "stdout",
     "output_type": "stream",
     "text": [
      "************* Module display\n",
      "display.py:1:0: C0114: Missing module docstring (missing-module-docstring)\n",
      "display.py:1:0: C0103: Constant name \"a\" doesn't conform to UPPER_CASE naming style (invalid-name)\n",
      "display.py:2:0: C0103: Constant name \"b\" doesn't conform to UPPER_CASE naming style (invalid-name)\n",
      "display.py:4:6: E0602: Undefined variable 'B' (undefined-variable)\n",
      "\n",
      "----------------------------------------------------------------------\n",
      "\n",
      "Your code has been rated at -10.00/10 (previous run: 10.00/10, -20.00)\n",
      "\n",
      "\n",
      "\n"
     ]
    }
   ],
   "source": [
    "#checking code in pylint\n",
    "! pylint display.py"
   ]
  },
  {
   "cell_type": "code",
   "execution_count": 7,
   "id": "bc6c9905",
   "metadata": {},
   "outputs": [
    {
     "name": "stdout",
     "output_type": "stream",
     "text": [
      "Overwriting display.py\n"
     ]
    }
   ],
   "source": [
    "%%writefile display.py\n",
    "\"\"\"\n",
    "A very simple script.\n",
    "\"\"\"\n",
    "\n",
    "def myfunc():\n",
    "    \"\"\"\n",
    "   displaying numbers\n",
    "    \"\"\"\n",
    "    first = 1\n",
    "    second = 2\n",
    "    print(first)\n",
    "    print(second)\n",
    "\n",
    "myfunc()"
   ]
  },
  {
   "cell_type": "code",
   "execution_count": 8,
   "id": "8f5659cd",
   "metadata": {},
   "outputs": [
    {
     "name": "stdout",
     "output_type": "stream",
     "text": [
      "\n",
      "----------------------------------------------------------------------\n",
      "\n",
      "Your code has been rated at 10.00/10 (previous run: -10.00/10, +20.00)\n",
      "\n",
      "\n",
      "\n"
     ]
    }
   ],
   "source": [
    " #checking the code in pylint\n",
    "! pylint display.py"
   ]
  },
  {
   "cell_type": "code",
   "execution_count": 85,
   "id": "9c5ab9e9",
   "metadata": {},
   "outputs": [
    {
     "name": "stdout",
     "output_type": "stream",
     "text": [
      "Overwriting simple2.py\n"
     ]
    }
   ],
   "source": [
    "%%writefile simple2.py\n",
    "\"\"\"\n",
    "A very simple script.\n",
    "\"\"\"\n",
    "\n",
    "def myfunc():\n",
    "    \"\"\"\n",
    "    displaying numbers\n",
    "    \"\"\"\n",
    "    first = 1\n",
    "    second = 2\n",
    "    print(first)\n",
    "    print('second')\n",
    "\n",
    "myfunc()"
   ]
  },
  {
   "cell_type": "code",
   "execution_count": 86,
   "id": "6ea1404f",
   "metadata": {},
   "outputs": [
    {
     "name": "stdout",
     "output_type": "stream",
     "text": [
      "\n",
      "--------------------------------------------------------------------\n",
      "\n",
      "Your code has been rated at 10.00/10 (previous run: 10.00/10, +0.00)\n",
      "\n",
      "\n",
      "\n"
     ]
    }
   ],
   "source": [
    "! pylint display.py"
   ]
  },
  {
   "cell_type": "code",
   "execution_count": 50,
   "id": "cf5a60a4",
   "metadata": {},
   "outputs": [
    {
     "name": "stdout",
     "output_type": "stream",
     "text": [
      "Overwriting calc.py\n"
     ]
    }
   ],
   "source": [
    "%%writefile calc.py\n",
    "def add(x,y):\n",
    "    return x+y\n",
    "\n",
    "def sub(x,y):\n",
    "    return x-y\n",
    "\n",
    "def mult(x,y):\n",
    "    return x*y\n",
    "\n",
    "def div(x,y):\n",
    "    if y==0:\n",
    "        raise ValueError(\"Cannot divide by zero!\")\n",
    "    return x/y"
   ]
  },
  {
   "cell_type": "code",
   "execution_count": 14,
   "id": "54a4d850",
   "metadata": {},
   "outputs": [
    {
     "name": "stdout",
     "output_type": "stream",
     "text": [
      "Overwriting test_calc.py\n"
     ]
    }
   ],
   "source": [
    "%%writefile test_calc.py\n",
    "import unittest\n",
    "import calc\n",
    "\n",
    "\n",
    "class TestCalc(unittest.TestCase):\n",
    "    \n",
    "    def test_add(self):\n",
    "        self.assertEqual(calc.add(10,5), 15)\n",
    "    \n",
    "    def test_sub(self):\n",
    "        self.assertEqual(calc.sub(10,5), 5)\n",
    "        \n",
    "    def test_mul(self):\n",
    "        self.assertEqual(calc.mult(10,5), 50)\n",
    "        \n",
    "    def test_div(self):\n",
    "        self.assertEqual(calc.div(10,5), 2)\n",
    "        \n",
    "    def test_string(self):\n",
    "        self.assertEqual(\"Python\", \"Python\")\n",
    "        \n",
    "#if __name__ == '__main__':\n",
    "#    unittest.main()\n",
    "\n",
    "unittest.main(argv=[''], verbosity=2, exit=False)"
   ]
  },
  {
   "cell_type": "code",
   "execution_count": 15,
   "id": "b004f5d3",
   "metadata": {
    "scrolled": false
   },
   "outputs": [
    {
     "name": "stderr",
     "output_type": "stream",
     "text": [
      "test_add (__main__.TestCalc) ... ok\n",
      "test_div (__main__.TestCalc) ... ok\n",
      "test_mul (__main__.TestCalc) ... ok\n",
      "test_string (__main__.TestCalc) ... ok\n",
      "test_sub (__main__.TestCalc) ... ok\n",
      "\n",
      "----------------------------------------------------------------------\n",
      "Ran 5 tests in 0.001s\n",
      "\n",
      "OK\n"
     ]
    }
   ],
   "source": [
    "! python test_calc.py\n"
   ]
  },
  {
   "cell_type": "code",
   "execution_count": null,
   "id": "4175c192",
   "metadata": {},
   "outputs": [],
   "source": []
  }
 ],
 "metadata": {
  "kernelspec": {
   "display_name": "Python 3 (ipykernel)",
   "language": "python",
   "name": "python3"
  },
  "language_info": {
   "codemirror_mode": {
    "name": "ipython",
    "version": 3
   },
   "file_extension": ".py",
   "mimetype": "text/x-python",
   "name": "python",
   "nbconvert_exporter": "python",
   "pygments_lexer": "ipython3",
   "version": "3.9.7"
  }
 },
 "nbformat": 4,
 "nbformat_minor": 5
}
