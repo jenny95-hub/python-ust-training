{
 "cells": [
  {
   "cell_type": "code",
   "execution_count": null,
   "id": "31bb0254",
   "metadata": {},
   "outputs": [],
   "source": [
    "#multiprocessing\n",
    "from multiprocessing import Process\n",
    "def display(my_name):\n",
    "    print('Hi !!!' + \" \" + my_name)\n",
    "if __name__ == '__main__':\n",
    "    p = Process(target=display, args=('Python'))\n",
    "    p.start()\n",
    "    p.join()\n",
    "display(\"jenny\")"
   ]
  },
  {
   "cell_type": "code",
   "execution_count": null,
   "id": "6c413a50",
   "metadata": {},
   "outputs": [],
   "source": [
    "from multiprocessing import Pool\n",
    "def test(a):\n",
    "    return a*a \n",
    "\n",
    "if __name__=='__main__':\n",
    "    l1=[1,2,3,4,5,6]\n",
    "    p=Pool()  \n",
    "    result=p.map(test,l1) \n",
    "    print(result)"
   ]
  },
  {
   "cell_type": "code",
   "execution_count": null,
   "id": "92f28727",
   "metadata": {},
   "outputs": [],
   "source": [
    "from multiprocessing import Pool\n",
    "import time \n",
    "def test(x):\n",
    "    sum=0\n",
    "    for i in range(10000):\n",
    "        sum=sum+i*i\n",
    "    return sum\n",
    "\n",
    "if __name__=='__main__':\n",
    "    t1=time.time() \n",
    "    p=Pool()\n",
    "    result=p.map(test,range(10000))\n",
    "    p.close()\n",
    "    p.join()\n",
    "    print('time taken by pool:',time.time()-t1)\n",
    "    \n",
    "    print('-----------------------------------')\n",
    "    \n",
    "    \n",
    "    t2=time.time()\n",
    "    result_one=[]\n",
    "    for i in range(10000):\n",
    "        result_one.append(test(i))\n",
    "    print('normal process take :',time.time()-t2)\n"
   ]
  },
  {
   "cell_type": "code",
   "execution_count": 1,
   "id": "5b1442b0",
   "metadata": {},
   "outputs": [
    {
     "name": "stdout",
     "output_type": "stream",
     "text": [
      "15\n"
     ]
    }
   ],
   "source": [
    "#multithreading\n",
    "a=10\n",
    "b=5\n",
    "c=a+b\n",
    "print(c) "
   ]
  },
  {
   "cell_type": "code",
   "execution_count": 2,
   "id": "a533a406",
   "metadata": {},
   "outputs": [
    {
     "name": "stdout",
     "output_type": "stream",
     "text": [
      "thread is runnig 22\n",
      "thread is runnig 25\n"
     ]
    }
   ],
   "source": [
    "from threading import Thread\n",
    "\n",
    "def test(a,b):   \n",
    "    print('thread is runnig',a+b)\n",
    "\n",
    "t1=Thread(target=test,args=(10,12))\n",
    "t2=Thread(target=test,args=(10,15))\n",
    "t1.start()  \n",
    "t2.start()\n"
   ]
  },
  {
   "cell_type": "code",
   "execution_count": 3,
   "id": "8983e73b",
   "metadata": {},
   "outputs": [
    {
     "name": "stdout",
     "output_type": "stream",
     "text": [
      "thread is runnig 10\n",
      "thread is runnig 10\n",
      "thread is runnig 10\n",
      "thread is runnig 10\n",
      "thread is runnig 10\n",
      "thread is runnig 10\n",
      "thread is runnig 10\n",
      "thread is runnig 10\n",
      "thread is runnig 10\n",
      "thread is runnig 10\n"
     ]
    }
   ],
   "source": [
    "from threading import Thread\n",
    "\n",
    "def test(a):   \n",
    "    print('thread is runnig',a)\n",
    "    \n",
    "for i in range(10):\n",
    "    t1=Thread(target=test,args=(10,))\n",
    "    t1.start()"
   ]
  },
  {
   "cell_type": "code",
   "execution_count": 4,
   "id": "2657ef3f",
   "metadata": {},
   "outputs": [
    {
     "name": "stdout",
     "output_type": "stream",
     "text": [
      "thread is runnig 22\n"
     ]
    }
   ],
   "source": [
    "from threading import Thread\n",
    "\n",
    "def test(a,b):  \n",
    "    print('thread is runnig',a+b)\n",
    "\n",
    "t1=Thread(target=test,args=(10,12))t\n",
    "t1.start()   "
   ]
  },
  {
   "cell_type": "code",
   "execution_count": 6,
   "id": "fe8a6989",
   "metadata": {},
   "outputs": [
    {
     "name": "stdout",
     "output_type": "stream",
     "text": [
      "Default child thread nameDefault main thread name MainThread\n",
      "new name of main thread UST\n",
      " Thread-21\n",
      "new name of child thread my_thread\n"
     ]
    }
   ],
   "source": [
    "from threading import Thread,current_thread\n",
    "def set_get():\n",
    "    print('Default child thread name',current_thread().getName())\n",
    "    current_thread().setName('my_thread')\n",
    "    print('new name of child thread',current_thread().getName())\n",
    "t1=Thread(target=set_get)\n",
    "t1.start()\n",
    "#-----------------------------------------------------------------------------------------------------------\n",
    "print('Default main thread name',current_thread().getName())\n",
    "current_thread().setName('UST')\n",
    "print('new name of main thread',current_thread().getName())\n"
   ]
  },
  {
   "cell_type": "code",
   "execution_count": 7,
   "id": "55a5861a",
   "metadata": {},
   "outputs": [
    {
     "name": "stdout",
     "output_type": "stream",
     "text": [
      "Thread-22\n"
     ]
    }
   ],
   "source": [
    "from threading import Thread \n",
    "class Mythread(Thread):\n",
    "    pass\n",
    "t=Mythread()\n",
    "print(t.name)\n",
    "    \n",
    "    \n",
    "        "
   ]
  },
  {
   "cell_type": "code",
   "execution_count": 8,
   "id": "feacfa25",
   "metadata": {},
   "outputs": [
    {
     "name": "stdout",
     "output_type": "stream",
     "text": [
      "child threadmain thread\n",
      "child thread\n",
      "child thread\n",
      "child thread\n",
      "child thread\n",
      "\n",
      "main thread\n",
      "main thread\n",
      "main thread\n",
      "main thread\n"
     ]
    }
   ],
   "source": [
    "from threading import Thread\n",
    "class Mythread(Thread):\n",
    "    def run(self):\n",
    "        for i in range(5):\n",
    "            print('child thread')\n",
    "\n",
    "t1=Mythread()\n",
    "t1.start()\n",
    "\n",
    "for i in range(5):\n",
    "    print(\"main thread\")"
   ]
  },
  {
   "cell_type": "code",
   "execution_count": 9,
   "id": "23b29e21",
   "metadata": {},
   "outputs": [
    {
     "name": "stdout",
     "output_type": "stream",
     "text": [
      "child thread\n",
      "child thread\n",
      "child thread\n",
      "child thread\n",
      "child thread\n",
      "main thread\n",
      "main thread\n",
      "main thread\n",
      "main thread\n",
      "main thread\n"
     ]
    }
   ],
   "source": [
    "from threading import Thread\n",
    "class Mythread(Thread):\n",
    "    def run(self):\n",
    "        for i in range(5):\n",
    "            print('child thread')\n",
    "\n",
    "t1=Mythread()\n",
    "t1.start()\n",
    "t1.join()\n",
    "\n",
    "for i in range(5):\n",
    "    print(\"main thread\")"
   ]
  },
  {
   "cell_type": "code",
   "execution_count": 10,
   "id": "45dc8582",
   "metadata": {},
   "outputs": [
    {
     "name": "stdout",
     "output_type": "stream",
     "text": [
      "childclass a 10\n"
     ]
    }
   ],
   "source": [
    "from threading import *\n",
    "class Mythread(Thread): \n",
    "    def __init__(self,a):  \n",
    "        Thread.__init__(self) \n",
    "        self.a=a\n",
    "    def display(self):\n",
    "        print(\"childclass a\",self.a)\n",
    "        \n",
    "t=Mythread(10)\n",
    "t.display()\n",
    "t.start()"
   ]
  },
  {
   "cell_type": "code",
   "execution_count": 11,
   "id": "8d72c1cc",
   "metadata": {},
   "outputs": [
    {
     "name": "stdout",
     "output_type": "stream",
     "text": [
      "sum of 4 and 7 is 11Thread-26\n",
      "\n",
      "sum of 15 and 45 is 60Thread-27\n",
      "\n"
     ]
    }
   ],
   "source": [
    "class Mythread:\n",
    "    def test(self,a,b):\n",
    "        c=a+b\n",
    "        print(\"sum of {0} and {1} is {2}\".format(a,b,c))\n",
    "obj=Mythread()\n",
    "# obj.test(5,6)\n",
    "t1=Thread(target=obj.test,args=(4,7))\n",
    "t2=Thread(target=obj.test,args=(15,45))\n",
    "t1.start()\n",
    "print(t1.name)\n",
    "t2.start()\n",
    "print(t2.name)"
   ]
  },
  {
   "cell_type": "code",
   "execution_count": 12,
   "id": "24aec2b3",
   "metadata": {},
   "outputs": [
    {
     "name": "stdout",
     "output_type": "stream",
     "text": [
      "Take order from table 1\n",
      "Take order from table 2\n",
      "Take order from table 3\n",
      "Take order from table 4\n",
      "Take order from table 5\n",
      "Take order from table 6\n",
      "Take order from table 7\n",
      "Take order from table 8\n",
      "Take order from table 9\n",
      "Take order from table 10\n",
      "Server order from table 1\n",
      "Server order from table 2\n",
      "Server order from table 3\n",
      "Server order from table 4\n",
      "Server order from table 5\n",
      "Server order from table 6\n",
      "Server order from table 7\n",
      "Server order from table 8\n",
      "Server order from table 9\n",
      "Server order from table 10\n"
     ]
    }
   ],
   "source": [
    "from threading import Thread\n",
    "class Hotel:\n",
    "    def __init__(self,t):\n",
    "        self.t=t\n",
    "    def food(self):\n",
    "        for i in range(1,11):  \n",
    "            print(self.t,i)\n",
    "h1=Hotel('Take order from table')\n",
    "h2=Hotel('Server order from table')\n",
    "t1=Thread(target=h1.food)\n",
    "t2=Thread(target=h2.food)\n",
    "t1.start()\n",
    "t2.start()"
   ]
  }
 ],
 "metadata": {
  "kernelspec": {
   "display_name": "Python 3 (ipykernel)",
   "language": "python",
   "name": "python3"
  },
  "language_info": {
   "codemirror_mode": {
    "name": "ipython",
    "version": 3
   },
   "file_extension": ".py",
   "mimetype": "text/x-python",
   "name": "python",
   "nbconvert_exporter": "python",
   "pygments_lexer": "ipython3",
   "version": "3.9.7"
  }
 },
 "nbformat": 4,
 "nbformat_minor": 5
}
